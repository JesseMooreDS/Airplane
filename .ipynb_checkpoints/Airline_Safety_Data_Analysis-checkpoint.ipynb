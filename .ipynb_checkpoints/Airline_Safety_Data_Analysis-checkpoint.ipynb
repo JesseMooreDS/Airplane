{
 "cells": [
  {
   "cell_type": "markdown",
   "metadata": {},
   "source": [
    "<div>\n",
    "<center><img src=\"images/pan_am.jpeg\" width=600 height=500></center>\n",
    "</div>"
   ]
  },
  {
   "cell_type": "markdown",
   "metadata": {},
   "source": [
    "## <center> **Author** Jesse Moore </center>"
   ]
  },
  {
   "cell_type": "markdown",
   "metadata": {},
   "source": [
    "## Overview\n",
    "\n",
    "WThis project explores our client's expansion into the airline industry, focusing on assessing the safety of available commercial airplanes. Using data from the National Transportation Safety Board (NTSB), we aim to identify airplanes with the highest and lowest safety risks.\n"
   ]
  },
  {
   "cell_type": "markdown",
   "metadata": {},
   "source": [
    "## Business Problem\n",
    "\n",
    "Our objective is to determine airplanes with the lowest risk factors regarding injuries and fatalities to passengers, addressing critical concerns for our client's investment in a safe airline operation. We will analyze factors such as weather conditions, engine types, and other variables that may influence safety outcomes.\n"
   ]
  },
  {
   "cell_type": "markdown",
   "metadata": {},
   "source": [
    "## Data Understanding\n",
    "\n",
    "The dataset spans from 1962 to 2023 and includes civilian aviation accidents and incidents within the USA and international waters. Key variables include aircraft make and model, fatalities, injuries, weather conditions, engine configurations, and whether the aircraft was amateur-built. Our analysis will prioritize aircraft models with the lowest fatalities and injuries."
   ]
  },
  {
   "cell_type": "markdown",
   "metadata": {},
   "source": [
    "<div>\n",
    "<center><img src=\"images/plane_lands.jpeg\" width=600 height=500></center>\n",
    "</div>"
   ]
  },
  {
   "cell_type": "code",
   "execution_count": 1,
   "metadata": {},
   "outputs": [],
   "source": [
    "# Import standard packages\n",
    "import pandas as pd\n",
    "import matplotlib.pyplot as plt\n",
    "import numpy as np\n",
    "import seaborn as sns\n",
    "import warnings\n",
    "\n",
    "%matplotlib inline"
   ]
  },
  {
   "cell_type": "code",
   "execution_count": 2,
   "metadata": {},
   "outputs": [],
   "source": [
    "#Loading our dataset\n",
    "df = pd.read_csv('zippedData/AviationData.csv', encoding='latin1', low_memory=False)"
   ]
  },
  {
   "cell_type": "code",
   "execution_count": 3,
   "metadata": {},
   "outputs": [
    {
     "data": {
      "text/plain": [
       "(88889, 31)"
      ]
     },
     "execution_count": 3,
     "metadata": {},
     "output_type": "execute_result"
    }
   ],
   "source": [
    "#Initial exploration of data \n",
    "df.shape"
   ]
  },
  {
   "cell_type": "code",
   "execution_count": 4,
   "metadata": {},
   "outputs": [
    {
     "name": "stdout",
     "output_type": "stream",
     "text": [
      "<class 'pandas.core.frame.DataFrame'>\n",
      "RangeIndex: 88889 entries, 0 to 88888\n",
      "Data columns (total 31 columns):\n",
      " #   Column                  Non-Null Count  Dtype  \n",
      "---  ------                  --------------  -----  \n",
      " 0   Event.Id                88889 non-null  object \n",
      " 1   Investigation.Type      88889 non-null  object \n",
      " 2   Accident.Number         88889 non-null  object \n",
      " 3   Event.Date              88889 non-null  object \n",
      " 4   Location                88837 non-null  object \n",
      " 5   Country                 88663 non-null  object \n",
      " 6   Latitude                34382 non-null  object \n",
      " 7   Longitude               34373 non-null  object \n",
      " 8   Airport.Code            50132 non-null  object \n",
      " 9   Airport.Name            52704 non-null  object \n",
      " 10  Injury.Severity         87889 non-null  object \n",
      " 11  Aircraft.damage         85695 non-null  object \n",
      " 12  Aircraft.Category       32287 non-null  object \n",
      " 13  Registration.Number     87507 non-null  object \n",
      " 14  Make                    88826 non-null  object \n",
      " 15  Model                   88797 non-null  object \n",
      " 16  Amateur.Built           88787 non-null  object \n",
      " 17  Number.of.Engines       82805 non-null  float64\n",
      " 18  Engine.Type             81793 non-null  object \n",
      " 19  FAR.Description         32023 non-null  object \n",
      " 20  Schedule                12582 non-null  object \n",
      " 21  Purpose.of.flight       82697 non-null  object \n",
      " 22  Air.carrier             16648 non-null  object \n",
      " 23  Total.Fatal.Injuries    77488 non-null  float64\n",
      " 24  Total.Serious.Injuries  76379 non-null  float64\n",
      " 25  Total.Minor.Injuries    76956 non-null  float64\n",
      " 26  Total.Uninjured         82977 non-null  float64\n",
      " 27  Weather.Condition       84397 non-null  object \n",
      " 28  Broad.phase.of.flight   61724 non-null  object \n",
      " 29  Report.Status           82505 non-null  object \n",
      " 30  Publication.Date        75118 non-null  object \n",
      "dtypes: float64(5), object(26)\n",
      "memory usage: 21.0+ MB\n"
     ]
    }
   ],
   "source": [
    "#Investigating our column names, missing values, and datatypes.\n",
    "df.info()"
   ]
  },
  {
   "cell_type": "code",
   "execution_count": 5,
   "metadata": {},
   "outputs": [
    {
     "data": {
      "text/html": [
       "<div>\n",
       "<style scoped>\n",
       "    .dataframe tbody tr th:only-of-type {\n",
       "        vertical-align: middle;\n",
       "    }\n",
       "\n",
       "    .dataframe tbody tr th {\n",
       "        vertical-align: top;\n",
       "    }\n",
       "\n",
       "    .dataframe thead th {\n",
       "        text-align: right;\n",
       "    }\n",
       "</style>\n",
       "<table border=\"1\" class=\"dataframe\">\n",
       "  <thead>\n",
       "    <tr style=\"text-align: right;\">\n",
       "      <th></th>\n",
       "      <th>Event.Id</th>\n",
       "      <th>Investigation.Type</th>\n",
       "      <th>Accident.Number</th>\n",
       "      <th>Event.Date</th>\n",
       "      <th>Location</th>\n",
       "      <th>Country</th>\n",
       "      <th>Latitude</th>\n",
       "      <th>Longitude</th>\n",
       "      <th>Airport.Code</th>\n",
       "      <th>Airport.Name</th>\n",
       "      <th>...</th>\n",
       "      <th>Purpose.of.flight</th>\n",
       "      <th>Air.carrier</th>\n",
       "      <th>Total.Fatal.Injuries</th>\n",
       "      <th>Total.Serious.Injuries</th>\n",
       "      <th>Total.Minor.Injuries</th>\n",
       "      <th>Total.Uninjured</th>\n",
       "      <th>Weather.Condition</th>\n",
       "      <th>Broad.phase.of.flight</th>\n",
       "      <th>Report.Status</th>\n",
       "      <th>Publication.Date</th>\n",
       "    </tr>\n",
       "  </thead>\n",
       "  <tbody>\n",
       "    <tr>\n",
       "      <th>0</th>\n",
       "      <td>20001218X45444</td>\n",
       "      <td>Accident</td>\n",
       "      <td>SEA87LA080</td>\n",
       "      <td>1948-10-24</td>\n",
       "      <td>MOOSE CREEK, ID</td>\n",
       "      <td>United States</td>\n",
       "      <td>NaN</td>\n",
       "      <td>NaN</td>\n",
       "      <td>NaN</td>\n",
       "      <td>NaN</td>\n",
       "      <td>...</td>\n",
       "      <td>Personal</td>\n",
       "      <td>NaN</td>\n",
       "      <td>2.0</td>\n",
       "      <td>0.0</td>\n",
       "      <td>0.0</td>\n",
       "      <td>0.0</td>\n",
       "      <td>UNK</td>\n",
       "      <td>Cruise</td>\n",
       "      <td>Probable Cause</td>\n",
       "      <td>NaN</td>\n",
       "    </tr>\n",
       "    <tr>\n",
       "      <th>1</th>\n",
       "      <td>20001218X45447</td>\n",
       "      <td>Accident</td>\n",
       "      <td>LAX94LA336</td>\n",
       "      <td>1962-07-19</td>\n",
       "      <td>BRIDGEPORT, CA</td>\n",
       "      <td>United States</td>\n",
       "      <td>NaN</td>\n",
       "      <td>NaN</td>\n",
       "      <td>NaN</td>\n",
       "      <td>NaN</td>\n",
       "      <td>...</td>\n",
       "      <td>Personal</td>\n",
       "      <td>NaN</td>\n",
       "      <td>4.0</td>\n",
       "      <td>0.0</td>\n",
       "      <td>0.0</td>\n",
       "      <td>0.0</td>\n",
       "      <td>UNK</td>\n",
       "      <td>Unknown</td>\n",
       "      <td>Probable Cause</td>\n",
       "      <td>19-09-1996</td>\n",
       "    </tr>\n",
       "    <tr>\n",
       "      <th>2</th>\n",
       "      <td>20061025X01555</td>\n",
       "      <td>Accident</td>\n",
       "      <td>NYC07LA005</td>\n",
       "      <td>1974-08-30</td>\n",
       "      <td>Saltville, VA</td>\n",
       "      <td>United States</td>\n",
       "      <td>36.922223</td>\n",
       "      <td>-81.878056</td>\n",
       "      <td>NaN</td>\n",
       "      <td>NaN</td>\n",
       "      <td>...</td>\n",
       "      <td>Personal</td>\n",
       "      <td>NaN</td>\n",
       "      <td>3.0</td>\n",
       "      <td>NaN</td>\n",
       "      <td>NaN</td>\n",
       "      <td>NaN</td>\n",
       "      <td>IMC</td>\n",
       "      <td>Cruise</td>\n",
       "      <td>Probable Cause</td>\n",
       "      <td>26-02-2007</td>\n",
       "    </tr>\n",
       "    <tr>\n",
       "      <th>3</th>\n",
       "      <td>20001218X45448</td>\n",
       "      <td>Accident</td>\n",
       "      <td>LAX96LA321</td>\n",
       "      <td>1977-06-19</td>\n",
       "      <td>EUREKA, CA</td>\n",
       "      <td>United States</td>\n",
       "      <td>NaN</td>\n",
       "      <td>NaN</td>\n",
       "      <td>NaN</td>\n",
       "      <td>NaN</td>\n",
       "      <td>...</td>\n",
       "      <td>Personal</td>\n",
       "      <td>NaN</td>\n",
       "      <td>2.0</td>\n",
       "      <td>0.0</td>\n",
       "      <td>0.0</td>\n",
       "      <td>0.0</td>\n",
       "      <td>IMC</td>\n",
       "      <td>Cruise</td>\n",
       "      <td>Probable Cause</td>\n",
       "      <td>12-09-2000</td>\n",
       "    </tr>\n",
       "    <tr>\n",
       "      <th>4</th>\n",
       "      <td>20041105X01764</td>\n",
       "      <td>Accident</td>\n",
       "      <td>CHI79FA064</td>\n",
       "      <td>1979-08-02</td>\n",
       "      <td>Canton, OH</td>\n",
       "      <td>United States</td>\n",
       "      <td>NaN</td>\n",
       "      <td>NaN</td>\n",
       "      <td>NaN</td>\n",
       "      <td>NaN</td>\n",
       "      <td>...</td>\n",
       "      <td>Personal</td>\n",
       "      <td>NaN</td>\n",
       "      <td>1.0</td>\n",
       "      <td>2.0</td>\n",
       "      <td>NaN</td>\n",
       "      <td>0.0</td>\n",
       "      <td>VMC</td>\n",
       "      <td>Approach</td>\n",
       "      <td>Probable Cause</td>\n",
       "      <td>16-04-1980</td>\n",
       "    </tr>\n",
       "  </tbody>\n",
       "</table>\n",
       "<p>5 rows × 31 columns</p>\n",
       "</div>"
      ],
      "text/plain": [
       "         Event.Id Investigation.Type Accident.Number  Event.Date  \\\n",
       "0  20001218X45444           Accident      SEA87LA080  1948-10-24   \n",
       "1  20001218X45447           Accident      LAX94LA336  1962-07-19   \n",
       "2  20061025X01555           Accident      NYC07LA005  1974-08-30   \n",
       "3  20001218X45448           Accident      LAX96LA321  1977-06-19   \n",
       "4  20041105X01764           Accident      CHI79FA064  1979-08-02   \n",
       "\n",
       "          Location        Country   Latitude   Longitude Airport.Code  \\\n",
       "0  MOOSE CREEK, ID  United States        NaN         NaN          NaN   \n",
       "1   BRIDGEPORT, CA  United States        NaN         NaN          NaN   \n",
       "2    Saltville, VA  United States  36.922223  -81.878056          NaN   \n",
       "3       EUREKA, CA  United States        NaN         NaN          NaN   \n",
       "4       Canton, OH  United States        NaN         NaN          NaN   \n",
       "\n",
       "  Airport.Name  ... Purpose.of.flight Air.carrier Total.Fatal.Injuries  \\\n",
       "0          NaN  ...          Personal         NaN                  2.0   \n",
       "1          NaN  ...          Personal         NaN                  4.0   \n",
       "2          NaN  ...          Personal         NaN                  3.0   \n",
       "3          NaN  ...          Personal         NaN                  2.0   \n",
       "4          NaN  ...          Personal         NaN                  1.0   \n",
       "\n",
       "  Total.Serious.Injuries Total.Minor.Injuries Total.Uninjured  \\\n",
       "0                    0.0                  0.0             0.0   \n",
       "1                    0.0                  0.0             0.0   \n",
       "2                    NaN                  NaN             NaN   \n",
       "3                    0.0                  0.0             0.0   \n",
       "4                    2.0                  NaN             0.0   \n",
       "\n",
       "  Weather.Condition  Broad.phase.of.flight   Report.Status Publication.Date  \n",
       "0               UNK                 Cruise  Probable Cause              NaN  \n",
       "1               UNK                Unknown  Probable Cause       19-09-1996  \n",
       "2               IMC                 Cruise  Probable Cause       26-02-2007  \n",
       "3               IMC                 Cruise  Probable Cause       12-09-2000  \n",
       "4               VMC               Approach  Probable Cause       16-04-1980  \n",
       "\n",
       "[5 rows x 31 columns]"
      ]
     },
     "execution_count": 5,
     "metadata": {},
     "output_type": "execute_result"
    }
   ],
   "source": [
    "#Initial exploration of data \n",
    "df.head()"
   ]
  },
  {
   "cell_type": "code",
   "execution_count": 6,
   "metadata": {
    "scrolled": true
   },
   "outputs": [
    {
     "data": {
      "text/html": [
       "<div>\n",
       "<style scoped>\n",
       "    .dataframe tbody tr th:only-of-type {\n",
       "        vertical-align: middle;\n",
       "    }\n",
       "\n",
       "    .dataframe tbody tr th {\n",
       "        vertical-align: top;\n",
       "    }\n",
       "\n",
       "    .dataframe thead th {\n",
       "        text-align: right;\n",
       "    }\n",
       "</style>\n",
       "<table border=\"1\" class=\"dataframe\">\n",
       "  <thead>\n",
       "    <tr style=\"text-align: right;\">\n",
       "      <th></th>\n",
       "      <th>Number.of.Engines</th>\n",
       "      <th>Total.Fatal.Injuries</th>\n",
       "      <th>Total.Serious.Injuries</th>\n",
       "      <th>Total.Minor.Injuries</th>\n",
       "      <th>Total.Uninjured</th>\n",
       "    </tr>\n",
       "  </thead>\n",
       "  <tbody>\n",
       "    <tr>\n",
       "      <th>count</th>\n",
       "      <td>82805.000000</td>\n",
       "      <td>77488.000000</td>\n",
       "      <td>76379.000000</td>\n",
       "      <td>76956.000000</td>\n",
       "      <td>82977.000000</td>\n",
       "    </tr>\n",
       "    <tr>\n",
       "      <th>mean</th>\n",
       "      <td>1.146585</td>\n",
       "      <td>0.647855</td>\n",
       "      <td>0.279881</td>\n",
       "      <td>0.357061</td>\n",
       "      <td>5.325440</td>\n",
       "    </tr>\n",
       "    <tr>\n",
       "      <th>std</th>\n",
       "      <td>0.446510</td>\n",
       "      <td>5.485960</td>\n",
       "      <td>1.544084</td>\n",
       "      <td>2.235625</td>\n",
       "      <td>27.913634</td>\n",
       "    </tr>\n",
       "    <tr>\n",
       "      <th>min</th>\n",
       "      <td>0.000000</td>\n",
       "      <td>0.000000</td>\n",
       "      <td>0.000000</td>\n",
       "      <td>0.000000</td>\n",
       "      <td>0.000000</td>\n",
       "    </tr>\n",
       "    <tr>\n",
       "      <th>25%</th>\n",
       "      <td>1.000000</td>\n",
       "      <td>0.000000</td>\n",
       "      <td>0.000000</td>\n",
       "      <td>0.000000</td>\n",
       "      <td>0.000000</td>\n",
       "    </tr>\n",
       "    <tr>\n",
       "      <th>50%</th>\n",
       "      <td>1.000000</td>\n",
       "      <td>0.000000</td>\n",
       "      <td>0.000000</td>\n",
       "      <td>0.000000</td>\n",
       "      <td>1.000000</td>\n",
       "    </tr>\n",
       "    <tr>\n",
       "      <th>75%</th>\n",
       "      <td>1.000000</td>\n",
       "      <td>0.000000</td>\n",
       "      <td>0.000000</td>\n",
       "      <td>0.000000</td>\n",
       "      <td>2.000000</td>\n",
       "    </tr>\n",
       "    <tr>\n",
       "      <th>max</th>\n",
       "      <td>8.000000</td>\n",
       "      <td>349.000000</td>\n",
       "      <td>161.000000</td>\n",
       "      <td>380.000000</td>\n",
       "      <td>699.000000</td>\n",
       "    </tr>\n",
       "  </tbody>\n",
       "</table>\n",
       "</div>"
      ],
      "text/plain": [
       "       Number.of.Engines  Total.Fatal.Injuries  Total.Serious.Injuries  \\\n",
       "count       82805.000000          77488.000000            76379.000000   \n",
       "mean            1.146585              0.647855                0.279881   \n",
       "std             0.446510              5.485960                1.544084   \n",
       "min             0.000000              0.000000                0.000000   \n",
       "25%             1.000000              0.000000                0.000000   \n",
       "50%             1.000000              0.000000                0.000000   \n",
       "75%             1.000000              0.000000                0.000000   \n",
       "max             8.000000            349.000000              161.000000   \n",
       "\n",
       "       Total.Minor.Injuries  Total.Uninjured  \n",
       "count          76956.000000     82977.000000  \n",
       "mean               0.357061         5.325440  \n",
       "std                2.235625        27.913634  \n",
       "min                0.000000         0.000000  \n",
       "25%                0.000000         0.000000  \n",
       "50%                0.000000         1.000000  \n",
       "75%                0.000000         2.000000  \n",
       "max              380.000000       699.000000  "
      ]
     },
     "execution_count": 6,
     "metadata": {},
     "output_type": "execute_result"
    }
   ],
   "source": [
    "#investigating the statistical values of our dataset.\n",
    "df.describe()"
   ]
  },
  {
   "cell_type": "markdown",
   "metadata": {},
   "source": [
    "# Data Preparation"
   ]
  },
  {
   "cell_type": "markdown",
   "metadata": {},
   "source": [
    "## Data Cleaning"
   ]
  },
  {
   "cell_type": "markdown",
   "metadata": {},
   "source": [
    "Before we do anything further we will improve readability by normalizing the column names by removing the '.' in each\n",
    "multi-word name and replacing it with an underscore and making all the names lowercase. "
   ]
  },
  {
   "cell_type": "code",
   "execution_count": 7,
   "metadata": {},
   "outputs": [],
   "source": [
    "#Improving the usability of the column names\n",
    "df.columns = df.columns.str.lower().str.replace('.', '_')"
   ]
  },
  {
   "cell_type": "code",
   "execution_count": 8,
   "metadata": {},
   "outputs": [
    {
     "name": "stdout",
     "output_type": "stream",
     "text": [
      "<class 'pandas.core.frame.DataFrame'>\n",
      "RangeIndex: 88889 entries, 0 to 88888\n",
      "Data columns (total 13 columns):\n",
      " #   Column                  Non-Null Count  Dtype  \n",
      "---  ------                  --------------  -----  \n",
      " 0   make                    88826 non-null  object \n",
      " 1   model                   88797 non-null  object \n",
      " 2   total_fatal_injuries    77488 non-null  float64\n",
      " 3   total_serious_injuries  76379 non-null  float64\n",
      " 4   total_minor_injuries    76956 non-null  float64\n",
      " 5   total_uninjured         82977 non-null  float64\n",
      " 6   weather_condition       84397 non-null  object \n",
      " 7   injury_severity         87889 non-null  object \n",
      " 8   aircraft_damage         85695 non-null  object \n",
      " 9   amateur_built           88787 non-null  object \n",
      " 10  number_of_engines       82805 non-null  float64\n",
      " 11  engine_type             81793 non-null  object \n",
      " 12  event_date              88889 non-null  object \n",
      "dtypes: float64(5), object(8)\n",
      "memory usage: 8.8+ MB\n"
     ]
    }
   ],
   "source": [
    "#Creating a list of the columns we want.\n",
    "relevant_columns = ['make', 'model', 'total_fatal_injuries', 'total_serious_injuries',  'total_minor_injuries', \n",
    "                    'total_uninjured', 'weather_condition', 'injury_severity', 'aircraft_damage','amateur_built',\n",
    "                    'number_of_engines', 'engine_type', 'event_date']\n",
    "\n",
    "#Creating our filtered dataframe.\n",
    "filtered_df = df[relevant_columns].copy()\n",
    "filtered_df.info()\n"
   ]
  },
  {
   "cell_type": "code",
   "execution_count": 9,
   "metadata": {},
   "outputs": [
    {
     "data": {
      "text/plain": [
       "0   1948-10-24\n",
       "1   1962-07-19\n",
       "2   1974-08-30\n",
       "3   1977-06-19\n",
       "4   1979-08-02\n",
       "Name: event_date, dtype: datetime64[ns]"
      ]
     },
     "execution_count": 9,
     "metadata": {},
     "output_type": "execute_result"
    }
   ],
   "source": [
    "#Converting our 'event_date' to pd.to_datetime\n",
    "filtered_df['event_date'] = pd.to_datetime(filtered_df['event_date'])\n",
    "filtered_df['event_date'].head()"
   ]
  },
  {
   "cell_type": "code",
   "execution_count": 10,
   "metadata": {},
   "outputs": [
    {
     "name": "stdout",
     "output_type": "stream",
     "text": [
      "<class 'pandas.core.frame.DataFrame'>\n",
      "Index: 64805 entries, 0 to 88767\n",
      "Data columns (total 13 columns):\n",
      " #   Column                  Non-Null Count  Dtype         \n",
      "---  ------                  --------------  -----         \n",
      " 0   make                    64805 non-null  object        \n",
      " 1   model                   64805 non-null  object        \n",
      " 2   total_fatal_injuries    64805 non-null  float64       \n",
      " 3   total_serious_injuries  64805 non-null  float64       \n",
      " 4   total_minor_injuries    64805 non-null  float64       \n",
      " 5   total_uninjured         64805 non-null  float64       \n",
      " 6   weather_condition       64805 non-null  object        \n",
      " 7   injury_severity         64805 non-null  object        \n",
      " 8   aircraft_damage         64805 non-null  object        \n",
      " 9   amateur_built           64805 non-null  object        \n",
      " 10  number_of_engines       64805 non-null  float64       \n",
      " 11  engine_type             64805 non-null  object        \n",
      " 12  event_date              64805 non-null  datetime64[ns]\n",
      "dtypes: datetime64[ns](1), float64(5), object(7)\n",
      "memory usage: 6.9+ MB\n"
     ]
    }
   ],
   "source": [
    "#Dropping any missing values.\n",
    "filtered_df.dropna(inplace=True)\n",
    "filtered_df.info()"
   ]
  },
  {
   "cell_type": "code",
   "execution_count": 11,
   "metadata": {},
   "outputs": [
    {
     "data": {
      "text/plain": [
       "engine_type\n",
       "Reciprocating      57602\n",
       "Turbo Shaft         2715\n",
       "Turbo Prop          2365\n",
       "Turbo Fan           1064\n",
       "Unknown              637\n",
       "Turbo Jet            409\n",
       "Electric               7\n",
       "NONE                   2\n",
       "Hybrid Rocket          1\n",
       "Geared Turbofan        1\n",
       "LR                     1\n",
       "UNK                    1\n",
       "Name: count, dtype: int64"
      ]
     },
     "execution_count": 11,
     "metadata": {},
     "output_type": "execute_result"
    }
   ],
   "source": [
    "#Investigating our 'engine_type' column values.\n",
    "filtered_df['engine_type'].value_counts()"
   ]
  },
  {
   "cell_type": "code",
   "execution_count": 12,
   "metadata": {},
   "outputs": [
    {
     "data": {
      "text/plain": [
       "weather_condition\n",
       "VMC    59531\n",
       "IMC     4572\n",
       "UNK      593\n",
       "Unk      109\n",
       "Name: count, dtype: int64"
      ]
     },
     "execution_count": 12,
     "metadata": {},
     "output_type": "execute_result"
    }
   ],
   "source": [
    "#Investigating our 'weather_condition' column values.\n",
    "filtered_df['weather_condition'].value_counts()"
   ]
  },
  {
   "cell_type": "markdown",
   "metadata": {},
   "source": [
    "To handle rows with unknown values in 'engine_type' and 'weather_condition', we define a function unknown_filter to filter these rows out."
   ]
  },
  {
   "cell_type": "code",
   "execution_count": 14,
   "metadata": {},
   "outputs": [],
   "source": [
    "#defining our function\n",
    "def unknown_filter(df_to_filter):\n",
    "    \n",
    "    #creating our columns to filter.\n",
    "    object_cols = df_to_filter.select_dtypes(include=object).columns\n",
    "    \n",
    "    #creating and returning our new filtered dataframe.\n",
    "    new_filtered_df = df_to_filter[~df_to_filter[object_cols].apply(lambda x: x.str.match(r'Unk|UNK|NONE')).any(axis=1)]\n",
    "    \n",
    "    return new_filtered_df"
   ]
  },
  {
   "cell_type": "code",
   "execution_count": 15,
   "metadata": {},
   "outputs": [],
   "source": [
    "#Using our new function\n",
    "filtered_df2 = unknown_filter(filtered_df)"
   ]
  },
  {
   "cell_type": "code",
   "execution_count": 16,
   "metadata": {},
   "outputs": [
    {
     "data": {
      "text/plain": [
       "weather_condition\n",
       "VMC    58900\n",
       "IMC     4560\n",
       "Name: count, dtype: int64"
      ]
     },
     "execution_count": 16,
     "metadata": {},
     "output_type": "execute_result"
    }
   ],
   "source": [
    "#Ensuring that it has worked on 'weather_condition'\n",
    "filtered_df2['weather_condition'].value_counts()"
   ]
  },
  {
   "cell_type": "code",
   "execution_count": 17,
   "metadata": {
    "scrolled": true
   },
   "outputs": [
    {
     "data": {
      "text/plain": [
       "number_of_engines\n",
       "1.0    55567\n",
       "2.0     7417\n",
       "3.0      255\n",
       "4.0      217\n",
       "8.0        2\n",
       "Name: count, dtype: int64"
      ]
     },
     "execution_count": 17,
     "metadata": {},
     "output_type": "execute_result"
    }
   ],
   "source": [
    "#Ensuring out Number of Engines is 1.0 or greater.\n",
    "filtered_df2 = filtered_df2[filtered_df2['number_of_engines'] >= 1.0]\n",
    "filtered_df2['number_of_engines'].value_counts()"
   ]
  },
  {
   "cell_type": "code",
   "execution_count": 18,
   "metadata": {},
   "outputs": [
    {
     "data": {
      "text/plain": [
       "engine_type\n",
       "Reciprocating      57015\n",
       "Turbo Shaft         2674\n",
       "Turbo Prop          2332\n",
       "Turbo Fan           1025\n",
       "Turbo Jet            402\n",
       "Electric               7\n",
       "Hybrid Rocket          1\n",
       "Geared Turbofan        1\n",
       "LR                     1\n",
       "Name: count, dtype: int64"
      ]
     },
     "execution_count": 18,
     "metadata": {},
     "output_type": "execute_result"
    }
   ],
   "source": [
    "#Ensuring that it has worked on 'engine_type'\n",
    "filtered_df2['engine_type'].value_counts()"
   ]
  },
  {
   "cell_type": "code",
   "execution_count": 19,
   "metadata": {},
   "outputs": [],
   "source": [
    "#let's create a variable to store our mean of 'total_fatal_injuries' for use in our plotting.\n",
    "overall_mean = filtered_df2['total_fatal_injuries'].mean()"
   ]
  },
  {
   "cell_type": "code",
   "execution_count": 20,
   "metadata": {},
   "outputs": [],
   "source": [
    "#To further clean our dataframe let's change 'Airbus Industrie' to 'Airbus'.\n",
    "filtered_df2['make'] = filtered_df2['make'].replace('AIRBUS INDUSTRIE', 'AIRBUS')"
   ]
  },
  {
   "cell_type": "code",
   "execution_count": 21,
   "metadata": {
    "scrolled": true
   },
   "outputs": [],
   "source": [
    "filtered_df2.to_csv('./zippedData/cleaned_airline_safety_df.csv')"
   ]
  },
  {
   "cell_type": "markdown",
   "metadata": {},
   "source": [
    "## Analysis"
   ]
  },
  {
   "cell_type": "markdown",
   "metadata": {},
   "source": [
    "## Weather Condition"
   ]
  },
  {
   "cell_type": "markdown",
   "metadata": {},
   "source": [
    "Now we look will look at the weather condition values to see what factor weather plays in our data."
   ]
  },
  {
   "cell_type": "code",
   "execution_count": 22,
   "metadata": {},
   "outputs": [
    {
     "data": {
      "text/plain": [
       "weather_condition\n",
       "VMC    58898\n",
       "IMC     4560\n",
       "Name: count, dtype: int64"
      ]
     },
     "execution_count": 22,
     "metadata": {},
     "output_type": "execute_result"
    }
   ],
   "source": [
    "filtered_df2['weather_condition'].value_counts()"
   ]
  },
  {
   "cell_type": "markdown",
   "metadata": {},
   "source": [
    " These 'weather_condition' codes are not known to us, but research clarifies these are:\n",
    " VMC = visual meteorological conditions (or, sight is unimpaired)\n",
    " IMC = instrument meteorological conditions (or, sight is impaired due to weather)"
   ]
  },
  {
   "cell_type": "code",
   "execution_count": 23,
   "metadata": {},
   "outputs": [],
   "source": [
    "#Now let's find out the 'total_fatal_injuries' mean by month and group them by weather condition."
   ]
  },
  {
   "cell_type": "code",
   "execution_count": 24,
   "metadata": {},
   "outputs": [
    {
     "data": {
      "image/png": "[encoded data removed]",
      "text/plain": [
       "<Figure size 640x480 with 1 Axes>"
      ]
     },
     "metadata": {},
     "output_type": "display_data"
    }
   ],
   "source": [
    "#We can create a plot to visualize if the time of year effects \n",
    "\n",
    "#creating our month feature for plotting.\n",
    "filtered_df2.loc[:, 'month'] = filtered_df2['event_date'].dt.month\n",
    "\n",
    "#grouping our dataframe by 'month' and 'weather_condition' and finding out means for 'total_fatal_injuries'\n",
    "grouped_df = filtered_df2.groupby(['month', 'weather_condition'])['total_fatal_injuries'].mean().unstack()\n",
    "\n",
    "#creating our plots.\n",
    "for col in grouped_df.columns:\n",
    "    plt.plot(grouped_df.index, grouped_df[col], marker='o', label=col)\n",
    "\n",
    "#a list of months tso call. \n",
    "months = ['Jan', 'Feb', 'Mar', 'Apr', 'May', 'Jun', 'Jul', 'Aug', 'Sep', 'Oct', 'Nov', 'Dec']\n",
    "\n",
    "#finishing our plots.\n",
    "\n",
    "plt.xticks(ticks=grouped_df.index, labels=[months[i-1] for i in grouped_df.index])\n",
    "plt.xlabel('Month')\n",
    "plt.ylabel('Total Fatality Means')\n",
    "plt.savefig(\"./images/Total Fatality Means by Month and Weather.png\", dpi=150)\n",
    "plt.title('Total Fatality Means by Month and Weather')\n",
    "plt.tight_layout()\n",
    "plt.savefig(\"./images/Total Fatality Means by Month and Weather.png\", dpi=150);"
   ]
  },
  {
   "cell_type": "markdown",
   "metadata": {},
   "source": [
    "## Number of Engines and Engine Type"
   ]
  },
  {
   "cell_type": "code",
   "execution_count": 25,
   "metadata": {},
   "outputs": [],
   "source": [
    "#Creating a list of columns and a new dataframe grouping by engine_number and engine_type with the columns\n",
    "#from plot_columns.\n",
    "\n",
    "plot_columns =['total_fatal_injuries', 'total_serious_injuries', 'total_minor_injuries', 'total_uninjured']\n",
    "\n",
    "engine_means = filtered_df2.groupby(['number_of_engines', 'engine_type'])[plot_columns].mean()"
   ]
  },
  {
   "cell_type": "code",
   "execution_count": 26,
   "metadata": {},
   "outputs": [
    {
     "data": {
      "image/png": "[encoded data removed]",
      "text/plain": [
       "<Figure size 700x700 with 1 Axes>"
      ]
     },
     "metadata": {},
     "output_type": "display_data"
    }
   ],
   "source": [
    "#Creating our plot\n",
    "\n",
    "#filtering a warning. \n",
    "warnings.filterwarnings('ignore', category=FutureWarning, message=',*use_inf_as_na*')\n",
    "\n",
    "#creating out plots.\n",
    "plt.figure(figsize=(7,7))\n",
    "sns.swarmplot(x='number_of_engines', y='total_fatal_injuries', hue='engine_type', data=engine_means, s=14)\n",
    "plt.title('Fatalities by Number of Engines and Engine Type')\n",
    "plt.xlabel('Number of Engines') \n",
    "plt.ylabel('Total Fatal Injuries')\n",
    "plt.tight_layout()\n",
    "plt.axhline(overall_mean, color='blue', linestyle='--', linewidth=1, label='Overall Mean of Total Fatalities')\n",
    "plt.tight_layout()\n",
    "plt.legend()\n",
    "plt.savefig(\"./images/Fatalities by Number of Engines and Engine Type.png\", dpi=150);"
   ]
  },
  {
   "cell_type": "code",
   "execution_count": 27,
   "metadata": {},
   "outputs": [],
   "source": [
    "#creating our new DataFrame grouped by Make and Model\n",
    "grouped_df = filtered_df2.groupby(['make', 'model'])[plot_columns].mean()"
   ]
  },
  {
   "cell_type": "markdown",
   "metadata": {},
   "source": [
    "Now let's add a column called 'z-score' that shows us the z-score of each make and model.\n"
   ]
  },
  {
   "cell_type": "code",
   "execution_count": 28,
   "metadata": {},
   "outputs": [],
   "source": [
    "#creating a function to speed up the process. \n",
    "def z_score_creator(our_df, total_group):\n",
    "\n",
    "    #creating our z-scores variable\n",
    "    z_scores =(our_df[total_group] - our_df[total_group].mean()) / our_df[total_group].std()\n",
    "\n",
    "    #creating the proper indexing for our z-scores.\n",
    "    col_index = our_df.columns.get_loc(total_group) + 1\n",
    "    \n",
    "    #inserting our new feature \n",
    "    our_df.insert(col_index, total_group + '_z-score', z_scores)"
   ]
  },
  {
   "cell_type": "code",
   "execution_count": 29,
   "metadata": {},
   "outputs": [],
   "source": [
    "#Using our plot columns list to create our new columns.\n",
    "\n",
    "for col in plot_columns:\n",
    "    z_score_creator(grouped_df, col)"
   ]
  },
  {
   "cell_type": "code",
   "execution_count": 30,
   "metadata": {},
   "outputs": [],
   "source": [
    "#now we want to create a new feature named 'safety'\n",
    "\n",
    "\n",
    "def safety_cat(final_df):\n",
    "    '''\n",
    "    This function the std deviations of a plane's 'total_fatal_injuries', 'total_serious_injuries',\n",
    "    'total_minor_injuries', and 'total_uninjured' and returns a string to categorize planes for their relative\n",
    "    safety. The criteria for a 'safe' plane will be:\n",
    "    Negative standard deviations for 'total_fatal_injuries', 'total_serious_injuries', and 'total_minor_injuries',\n",
    "    and positive standard deviations for 'total_uninjured'. \n",
    "    \n",
    "    \n",
    "    If total_fatal_injuries', 'total_serious_injuries', and 'total_minor_injuries' std == negative, safety = 'safe'\n",
    "\n",
    "    If total_fatal_injuries', 'total_serious_injuries', std == negative, AND\n",
    "    'total_minor_injuries' std == positive, safety = 'less safe'\n",
    "\n",
    "    If total_fatal_injuries' std == negative, AND\n",
    "    'total_serious_injuries', std == positive, safety = 'not safe'\n",
    "\n",
    "    If total_fatal_injuries' std == positive, safety = 'dangerous'\n",
    "\n",
    "    \n",
    "    '''\n",
    " #creating out list of conditions\n",
    "    conditions = [\n",
    "        (final_df['total_fatal_injuries_z-score'] < 0 \n",
    "        and final_df['total_serious_injuries_z-score'] < 0 \n",
    "        and final_df['total_minor_injuries_z-score'] < 0 \n",
    "        and final_df['total_uninjured_z-score'] > 0, 'Safe'),\n",
    "            \n",
    "        (final_df['total_fatal_injuries_z-score'] < 0 \n",
    "        and final_df['total_serious_injuries_z-score'] < 0\n",
    "        and final_df['total_minor_injuries_z-score'] > 0, 'Less Safe'),\n",
    "        \n",
    "        (final_df['total_fatal_injuries_z-score'] > 0 and final_df['total_serious_injuries_z-score'] < 0, 'Not Safe')\n",
    "        ]\n",
    "\n",
    "    #iterating through our dataframe. \n",
    "    for condition, outcome in conditions:\n",
    "        if condition:\n",
    "            return outcome\n",
    "            \n",
    "    #if none of these conditions are met, we return 'Dangerous'.            \n",
    "    return 'Dangerous'"
   ]
  },
  {
   "cell_type": "code",
   "execution_count": 31,
   "metadata": {},
   "outputs": [],
   "source": [
    "grouped_df['safety'] = grouped_df.apply(safety_cat, axis=1)\n"
   ]
  },
  {
   "cell_type": "code",
   "execution_count": 32,
   "metadata": {},
   "outputs": [],
   "source": [
    "#We still need to rename the columns that we used from 'plot_columns' to reflect that they represent the means.\n",
    "grouped_df = grouped_df.rename(columns={col: f'{col}_mean' for col in plot_columns})"
   ]
  },
  {
   "cell_type": "code",
   "execution_count": 33,
   "metadata": {
    "scrolled": true
   },
   "outputs": [
    {
     "data": {
      "text/html": [
       "<div>\n",
       "<style scoped>\n",
       "    .dataframe tbody tr th:only-of-type {\n",
       "        vertical-align: middle;\n",
       "    }\n",
       "\n",
       "    .dataframe tbody tr th {\n",
       "        vertical-align: top;\n",
       "    }\n",
       "\n",
       "    .dataframe thead th {\n",
       "        text-align: right;\n",
       "    }\n",
       "</style>\n",
       "<table border=\"1\" class=\"dataframe\">\n",
       "  <thead>\n",
       "    <tr style=\"text-align: right;\">\n",
       "      <th></th>\n",
       "      <th></th>\n",
       "      <th>total_fatal_injuries_mean</th>\n",
       "      <th>total_fatal_injuries_z-score</th>\n",
       "      <th>total_serious_injuries_mean</th>\n",
       "      <th>total_serious_injuries_z-score</th>\n",
       "      <th>total_minor_injuries_mean</th>\n",
       "      <th>total_minor_injuries_z-score</th>\n",
       "      <th>total_uninjured_mean</th>\n",
       "      <th>total_uninjured_z-score</th>\n",
       "      <th>safety</th>\n",
       "    </tr>\n",
       "    <tr>\n",
       "      <th>make</th>\n",
       "      <th>model</th>\n",
       "      <th></th>\n",
       "      <th></th>\n",
       "      <th></th>\n",
       "      <th></th>\n",
       "      <th></th>\n",
       "      <th></th>\n",
       "      <th></th>\n",
       "      <th></th>\n",
       "      <th></th>\n",
       "    </tr>\n",
       "  </thead>\n",
       "  <tbody>\n",
       "    <tr>\n",
       "      <th>177MF LLC</th>\n",
       "      <th>PITTS MODEL 12</th>\n",
       "      <td>0.0</td>\n",
       "      <td>-0.166515</td>\n",
       "      <td>2.0</td>\n",
       "      <td>1.306566</td>\n",
       "      <td>0.0</td>\n",
       "      <td>-0.215108</td>\n",
       "      <td>0.0</td>\n",
       "      <td>-0.171715</td>\n",
       "      <td>Dangerous</td>\n",
       "    </tr>\n",
       "    <tr>\n",
       "      <th>1st Ftr Gp</th>\n",
       "      <th>FOCKE-WULF 190</th>\n",
       "      <td>1.0</td>\n",
       "      <td>0.212447</td>\n",
       "      <td>0.0</td>\n",
       "      <td>-0.184429</td>\n",
       "      <td>0.0</td>\n",
       "      <td>-0.215108</td>\n",
       "      <td>0.0</td>\n",
       "      <td>-0.171715</td>\n",
       "      <td>Not Safe</td>\n",
       "    </tr>\n",
       "    <tr>\n",
       "      <th>2007 Savage Air LLC</th>\n",
       "      <th>EPIC LT</th>\n",
       "      <td>0.0</td>\n",
       "      <td>-0.166515</td>\n",
       "      <td>0.0</td>\n",
       "      <td>-0.184429</td>\n",
       "      <td>0.0</td>\n",
       "      <td>-0.215108</td>\n",
       "      <td>4.0</td>\n",
       "      <td>-0.003303</td>\n",
       "      <td>Dangerous</td>\n",
       "    </tr>\n",
       "    <tr>\n",
       "      <th>2021FX3 LLC</th>\n",
       "      <th>CCX-2000</th>\n",
       "      <td>0.0</td>\n",
       "      <td>-0.166515</td>\n",
       "      <td>0.0</td>\n",
       "      <td>-0.184429</td>\n",
       "      <td>0.0</td>\n",
       "      <td>-0.215108</td>\n",
       "      <td>2.0</td>\n",
       "      <td>-0.087509</td>\n",
       "      <td>Dangerous</td>\n",
       "    </tr>\n",
       "    <tr>\n",
       "      <th>67 Flying Dutchman</th>\n",
       "      <th>D1/LFD-13</th>\n",
       "      <td>0.0</td>\n",
       "      <td>-0.166515</td>\n",
       "      <td>0.0</td>\n",
       "      <td>-0.184429</td>\n",
       "      <td>0.0</td>\n",
       "      <td>-0.215108</td>\n",
       "      <td>1.0</td>\n",
       "      <td>-0.129612</td>\n",
       "      <td>Dangerous</td>\n",
       "    </tr>\n",
       "  </tbody>\n",
       "</table>\n",
       "</div>"
      ],
      "text/plain": [
       "                                    total_fatal_injuries_mean  \\\n",
       "make                model                                       \n",
       "177MF LLC           PITTS MODEL 12                        0.0   \n",
       "1st Ftr Gp          FOCKE-WULF 190                        1.0   \n",
       "2007 Savage Air LLC EPIC LT                               0.0   \n",
       "2021FX3 LLC         CCX-2000                              0.0   \n",
       "67 Flying Dutchman  D1/LFD-13                             0.0   \n",
       "\n",
       "                                    total_fatal_injuries_z-score  \\\n",
       "make                model                                          \n",
       "177MF LLC           PITTS MODEL 12                     -0.166515   \n",
       "1st Ftr Gp          FOCKE-WULF 190                      0.212447   \n",
       "2007 Savage Air LLC EPIC LT                            -0.166515   \n",
       "2021FX3 LLC         CCX-2000                           -0.166515   \n",
       "67 Flying Dutchman  D1/LFD-13                          -0.166515   \n",
       "\n",
       "                                    total_serious_injuries_mean  \\\n",
       "make                model                                         \n",
       "177MF LLC           PITTS MODEL 12                          2.0   \n",
       "1st Ftr Gp          FOCKE-WULF 190                          0.0   \n",
       "2007 Savage Air LLC EPIC LT                                 0.0   \n",
       "2021FX3 LLC         CCX-2000                                0.0   \n",
       "67 Flying Dutchman  D1/LFD-13                               0.0   \n",
       "\n",
       "                                    total_serious_injuries_z-score  \\\n",
       "make                model                                            \n",
       "177MF LLC           PITTS MODEL 12                        1.306566   \n",
       "1st Ftr Gp          FOCKE-WULF 190                       -0.184429   \n",
       "2007 Savage Air LLC EPIC LT                              -0.184429   \n",
       "2021FX3 LLC         CCX-2000                             -0.184429   \n",
       "67 Flying Dutchman  D1/LFD-13                            -0.184429   \n",
       "\n",
       "                                    total_minor_injuries_mean  \\\n",
       "make                model                                       \n",
       "177MF LLC           PITTS MODEL 12                        0.0   \n",
       "1st Ftr Gp          FOCKE-WULF 190                        0.0   \n",
       "2007 Savage Air LLC EPIC LT                               0.0   \n",
       "2021FX3 LLC         CCX-2000                              0.0   \n",
       "67 Flying Dutchman  D1/LFD-13                             0.0   \n",
       "\n",
       "                                    total_minor_injuries_z-score  \\\n",
       "make                model                                          \n",
       "177MF LLC           PITTS MODEL 12                     -0.215108   \n",
       "1st Ftr Gp          FOCKE-WULF 190                     -0.215108   \n",
       "2007 Savage Air LLC EPIC LT                            -0.215108   \n",
       "2021FX3 LLC         CCX-2000                           -0.215108   \n",
       "67 Flying Dutchman  D1/LFD-13                          -0.215108   \n",
       "\n",
       "                                    total_uninjured_mean  \\\n",
       "make                model                                  \n",
       "177MF LLC           PITTS MODEL 12                   0.0   \n",
       "1st Ftr Gp          FOCKE-WULF 190                   0.0   \n",
       "2007 Savage Air LLC EPIC LT                          4.0   \n",
       "2021FX3 LLC         CCX-2000                         2.0   \n",
       "67 Flying Dutchman  D1/LFD-13                        1.0   \n",
       "\n",
       "                                    total_uninjured_z-score     safety  \n",
       "make                model                                               \n",
       "177MF LLC           PITTS MODEL 12                -0.171715  Dangerous  \n",
       "1st Ftr Gp          FOCKE-WULF 190                -0.171715   Not Safe  \n",
       "2007 Savage Air LLC EPIC LT                       -0.003303  Dangerous  \n",
       "2021FX3 LLC         CCX-2000                      -0.087509  Dangerous  \n",
       "67 Flying Dutchman  D1/LFD-13                     -0.129612  Dangerous  "
      ]
     },
     "execution_count": 33,
     "metadata": {},
     "output_type": "execute_result"
    }
   ],
   "source": [
    "#ensuring our new columnes are inserted properly.\n",
    "grouped_df.head()"
   ]
  },
  {
   "cell_type": "markdown",
   "metadata": {},
   "source": [
    "Now we will create a function to filter our data into different groups, \n",
    "where our goal is to have negative z-scores for all applicable columns except 'total_uninjured' which will be positive.\n",
    "From this group we will then create a plot to find the safest airplane in our dataset. "
   ]
  },
  {
   "cell_type": "code",
   "execution_count": 34,
   "metadata": {},
   "outputs": [],
   "source": [
    "#creating a new dataframe with only our planes deemed 'safe'. \n",
    "safe_planes = grouped_df[grouped_df['safety'] == 'Safe']"
   ]
  },
  {
   "cell_type": "code",
   "execution_count": 35,
   "metadata": {
    "scrolled": true
   },
   "outputs": [
    {
     "data": {
      "text/html": [
       "<div>\n",
       "<style scoped>\n",
       "    .dataframe tbody tr th:only-of-type {\n",
       "        vertical-align: middle;\n",
       "    }\n",
       "\n",
       "    .dataframe tbody tr th {\n",
       "        vertical-align: top;\n",
       "    }\n",
       "\n",
       "    .dataframe thead th {\n",
       "        text-align: right;\n",
       "    }\n",
       "</style>\n",
       "<table border=\"1\" class=\"dataframe\">\n",
       "  <thead>\n",
       "    <tr style=\"text-align: right;\">\n",
       "      <th></th>\n",
       "      <th></th>\n",
       "      <th>total_fatal_injuries_mean</th>\n",
       "      <th>total_fatal_injuries_z-score</th>\n",
       "      <th>total_serious_injuries_mean</th>\n",
       "      <th>total_serious_injuries_z-score</th>\n",
       "      <th>total_minor_injuries_mean</th>\n",
       "      <th>total_minor_injuries_z-score</th>\n",
       "      <th>total_uninjured_mean</th>\n",
       "      <th>total_uninjured_z-score</th>\n",
       "      <th>safety</th>\n",
       "    </tr>\n",
       "    <tr>\n",
       "      <th>make</th>\n",
       "      <th>model</th>\n",
       "      <th></th>\n",
       "      <th></th>\n",
       "      <th></th>\n",
       "      <th></th>\n",
       "      <th></th>\n",
       "      <th></th>\n",
       "      <th></th>\n",
       "      <th></th>\n",
       "      <th></th>\n",
       "    </tr>\n",
       "  </thead>\n",
       "  <tbody>\n",
       "    <tr>\n",
       "      <th>AEROSPATIALE</th>\n",
       "      <th>AS355F1</th>\n",
       "      <td>0.0</td>\n",
       "      <td>-0.166515</td>\n",
       "      <td>0.0</td>\n",
       "      <td>-0.184429</td>\n",
       "      <td>0.0</td>\n",
       "      <td>-0.215108</td>\n",
       "      <td>5.0</td>\n",
       "      <td>0.038800</td>\n",
       "      <td>Safe</td>\n",
       "    </tr>\n",
       "    <tr>\n",
       "      <th>AGUSTAWESTLAND PHILADELPHIA</th>\n",
       "      <th>AW139</th>\n",
       "      <td>0.0</td>\n",
       "      <td>-0.166515</td>\n",
       "      <td>0.0</td>\n",
       "      <td>-0.184429</td>\n",
       "      <td>0.0</td>\n",
       "      <td>-0.215108</td>\n",
       "      <td>9.0</td>\n",
       "      <td>0.207212</td>\n",
       "      <td>Safe</td>\n",
       "    </tr>\n",
       "    <tr>\n",
       "      <th rowspan=\"3\" valign=\"top\">AIRBUS</th>\n",
       "      <th>320</th>\n",
       "      <td>0.0</td>\n",
       "      <td>-0.166515</td>\n",
       "      <td>0.0</td>\n",
       "      <td>-0.184429</td>\n",
       "      <td>0.0</td>\n",
       "      <td>-0.215108</td>\n",
       "      <td>162.0</td>\n",
       "      <td>6.648969</td>\n",
       "      <td>Safe</td>\n",
       "    </tr>\n",
       "    <tr>\n",
       "      <th>321</th>\n",
       "      <td>0.0</td>\n",
       "      <td>-0.166515</td>\n",
       "      <td>0.0</td>\n",
       "      <td>-0.184429</td>\n",
       "      <td>0.0</td>\n",
       "      <td>-0.215108</td>\n",
       "      <td>192.0</td>\n",
       "      <td>7.912058</td>\n",
       "      <td>Safe</td>\n",
       "    </tr>\n",
       "    <tr>\n",
       "      <th>A220</th>\n",
       "      <td>0.0</td>\n",
       "      <td>-0.166515</td>\n",
       "      <td>0.0</td>\n",
       "      <td>-0.184429</td>\n",
       "      <td>0.0</td>\n",
       "      <td>-0.215108</td>\n",
       "      <td>121.0</td>\n",
       "      <td>4.922746</td>\n",
       "      <td>Safe</td>\n",
       "    </tr>\n",
       "  </tbody>\n",
       "</table>\n",
       "</div>"
      ],
      "text/plain": [
       "                                     total_fatal_injuries_mean  \\\n",
       "make                        model                                \n",
       "AEROSPATIALE                AS355F1                        0.0   \n",
       "AGUSTAWESTLAND PHILADELPHIA AW139                          0.0   \n",
       "AIRBUS                      320                            0.0   \n",
       "                            321                            0.0   \n",
       "                            A220                           0.0   \n",
       "\n",
       "                                     total_fatal_injuries_z-score  \\\n",
       "make                        model                                   \n",
       "AEROSPATIALE                AS355F1                     -0.166515   \n",
       "AGUSTAWESTLAND PHILADELPHIA AW139                       -0.166515   \n",
       "AIRBUS                      320                         -0.166515   \n",
       "                            321                         -0.166515   \n",
       "                            A220                        -0.166515   \n",
       "\n",
       "                                     total_serious_injuries_mean  \\\n",
       "make                        model                                  \n",
       "AEROSPATIALE                AS355F1                          0.0   \n",
       "AGUSTAWESTLAND PHILADELPHIA AW139                            0.0   \n",
       "AIRBUS                      320                              0.0   \n",
       "                            321                              0.0   \n",
       "                            A220                             0.0   \n",
       "\n",
       "                                     total_serious_injuries_z-score  \\\n",
       "make                        model                                     \n",
       "AEROSPATIALE                AS355F1                       -0.184429   \n",
       "AGUSTAWESTLAND PHILADELPHIA AW139                         -0.184429   \n",
       "AIRBUS                      320                           -0.184429   \n",
       "                            321                           -0.184429   \n",
       "                            A220                          -0.184429   \n",
       "\n",
       "                                     total_minor_injuries_mean  \\\n",
       "make                        model                                \n",
       "AEROSPATIALE                AS355F1                        0.0   \n",
       "AGUSTAWESTLAND PHILADELPHIA AW139                          0.0   \n",
       "AIRBUS                      320                            0.0   \n",
       "                            321                            0.0   \n",
       "                            A220                           0.0   \n",
       "\n",
       "                                     total_minor_injuries_z-score  \\\n",
       "make                        model                                   \n",
       "AEROSPATIALE                AS355F1                     -0.215108   \n",
       "AGUSTAWESTLAND PHILADELPHIA AW139                       -0.215108   \n",
       "AIRBUS                      320                         -0.215108   \n",
       "                            321                         -0.215108   \n",
       "                            A220                        -0.215108   \n",
       "\n",
       "                                     total_uninjured_mean  \\\n",
       "make                        model                           \n",
       "AEROSPATIALE                AS355F1                   5.0   \n",
       "AGUSTAWESTLAND PHILADELPHIA AW139                     9.0   \n",
       "AIRBUS                      320                     162.0   \n",
       "                            321                     192.0   \n",
       "                            A220                    121.0   \n",
       "\n",
       "                                     total_uninjured_z-score safety  \n",
       "make                        model                                    \n",
       "AEROSPATIALE                AS355F1                 0.038800   Safe  \n",
       "AGUSTAWESTLAND PHILADELPHIA AW139                   0.207212   Safe  \n",
       "AIRBUS                      320                     6.648969   Safe  \n",
       "                            321                     7.912058   Safe  \n",
       "                            A220                    4.922746   Safe  "
      ]
     },
     "execution_count": 35,
     "metadata": {},
     "output_type": "execute_result"
    }
   ],
   "source": [
    "#Ensuring that this dataframe works.\n",
    "safe_planes.head()"
   ]
  },
  {
   "cell_type": "markdown",
   "metadata": {},
   "source": [
    "# Now that we have a way to view the safest planes easily let's make a plot to show the top 5 safest planes total_fatal_injuries, total_serious_injuries, total_minor_injuries, and total_uninjured."
   ]
  },
  {
   "cell_type": "code",
   "execution_count": 36,
   "metadata": {},
   "outputs": [],
   "source": [
    "#sorting to create our top 5 safest planes. \n",
    "\n",
    "top_safe_planes = safe_planes.nlargest(5, 'total_uninjured_mean')"
   ]
  },
  {
   "cell_type": "code",
   "execution_count": 37,
   "metadata": {},
   "outputs": [
    {
     "data": {
      "text/html": [
       "<div>\n",
       "<style scoped>\n",
       "    .dataframe tbody tr th:only-of-type {\n",
       "        vertical-align: middle;\n",
       "    }\n",
       "\n",
       "    .dataframe tbody tr th {\n",
       "        vertical-align: top;\n",
       "    }\n",
       "\n",
       "    .dataframe thead th {\n",
       "        text-align: right;\n",
       "    }\n",
       "</style>\n",
       "<table border=\"1\" class=\"dataframe\">\n",
       "  <thead>\n",
       "    <tr style=\"text-align: right;\">\n",
       "      <th></th>\n",
       "      <th></th>\n",
       "      <th>total_fatal_injuries_mean</th>\n",
       "      <th>total_fatal_injuries_z-score</th>\n",
       "      <th>total_serious_injuries_mean</th>\n",
       "      <th>total_serious_injuries_z-score</th>\n",
       "      <th>total_minor_injuries_mean</th>\n",
       "      <th>total_minor_injuries_z-score</th>\n",
       "      <th>total_uninjured_mean</th>\n",
       "      <th>total_uninjured_z-score</th>\n",
       "      <th>safety</th>\n",
       "    </tr>\n",
       "    <tr>\n",
       "      <th>make</th>\n",
       "      <th>model</th>\n",
       "      <th></th>\n",
       "      <th></th>\n",
       "      <th></th>\n",
       "      <th></th>\n",
       "      <th></th>\n",
       "      <th></th>\n",
       "      <th></th>\n",
       "      <th></th>\n",
       "      <th></th>\n",
       "    </tr>\n",
       "  </thead>\n",
       "  <tbody>\n",
       "    <tr>\n",
       "      <th>AIRBUS</th>\n",
       "      <th>A380</th>\n",
       "      <td>0.0</td>\n",
       "      <td>-0.166515</td>\n",
       "      <td>0.0</td>\n",
       "      <td>-0.184429</td>\n",
       "      <td>0.0</td>\n",
       "      <td>-0.215108</td>\n",
       "      <td>576.0</td>\n",
       "      <td>24.079605</td>\n",
       "      <td>Safe</td>\n",
       "    </tr>\n",
       "    <tr>\n",
       "      <th rowspan=\"2\" valign=\"top\">Boeing</th>\n",
       "      <th>747-130</th>\n",
       "      <td>0.0</td>\n",
       "      <td>-0.166515</td>\n",
       "      <td>0.0</td>\n",
       "      <td>-0.184429</td>\n",
       "      <td>0.0</td>\n",
       "      <td>-0.215108</td>\n",
       "      <td>471.5</td>\n",
       "      <td>19.679843</td>\n",
       "      <td>Safe</td>\n",
       "    </tr>\n",
       "    <tr>\n",
       "      <th>747-243B</th>\n",
       "      <td>0.0</td>\n",
       "      <td>-0.166515</td>\n",
       "      <td>0.0</td>\n",
       "      <td>-0.184429</td>\n",
       "      <td>0.0</td>\n",
       "      <td>-0.215108</td>\n",
       "      <td>459.0</td>\n",
       "      <td>19.153556</td>\n",
       "      <td>Safe</td>\n",
       "    </tr>\n",
       "    <tr>\n",
       "      <th>AIRBUS</th>\n",
       "      <th>A330-323</th>\n",
       "      <td>0.0</td>\n",
       "      <td>-0.166515</td>\n",
       "      <td>0.0</td>\n",
       "      <td>-0.184429</td>\n",
       "      <td>0.0</td>\n",
       "      <td>-0.215108</td>\n",
       "      <td>454.0</td>\n",
       "      <td>18.943041</td>\n",
       "      <td>Safe</td>\n",
       "    </tr>\n",
       "    <tr>\n",
       "      <th>Boeing</th>\n",
       "      <th>B-747</th>\n",
       "      <td>0.0</td>\n",
       "      <td>-0.166515</td>\n",
       "      <td>0.0</td>\n",
       "      <td>-0.184429</td>\n",
       "      <td>0.0</td>\n",
       "      <td>-0.215108</td>\n",
       "      <td>440.0</td>\n",
       "      <td>18.353599</td>\n",
       "      <td>Safe</td>\n",
       "    </tr>\n",
       "  </tbody>\n",
       "</table>\n",
       "</div>"
      ],
      "text/plain": [
       "                 total_fatal_injuries_mean  total_fatal_injuries_z-score  \\\n",
       "make   model                                                               \n",
       "AIRBUS A380                            0.0                     -0.166515   \n",
       "Boeing 747-130                         0.0                     -0.166515   \n",
       "       747-243B                        0.0                     -0.166515   \n",
       "AIRBUS A330-323                        0.0                     -0.166515   \n",
       "Boeing B-747                           0.0                     -0.166515   \n",
       "\n",
       "                 total_serious_injuries_mean  total_serious_injuries_z-score  \\\n",
       "make   model                                                                   \n",
       "AIRBUS A380                              0.0                       -0.184429   \n",
       "Boeing 747-130                           0.0                       -0.184429   \n",
       "       747-243B                          0.0                       -0.184429   \n",
       "AIRBUS A330-323                          0.0                       -0.184429   \n",
       "Boeing B-747                             0.0                       -0.184429   \n",
       "\n",
       "                 total_minor_injuries_mean  total_minor_injuries_z-score  \\\n",
       "make   model                                                               \n",
       "AIRBUS A380                            0.0                     -0.215108   \n",
       "Boeing 747-130                         0.0                     -0.215108   \n",
       "       747-243B                        0.0                     -0.215108   \n",
       "AIRBUS A330-323                        0.0                     -0.215108   \n",
       "Boeing B-747                           0.0                     -0.215108   \n",
       "\n",
       "                 total_uninjured_mean  total_uninjured_z-score safety  \n",
       "make   model                                                           \n",
       "AIRBUS A380                     576.0                24.079605   Safe  \n",
       "Boeing 747-130                  471.5                19.679843   Safe  \n",
       "       747-243B                 459.0                19.153556   Safe  \n",
       "AIRBUS A330-323                 454.0                18.943041   Safe  \n",
       "Boeing B-747                    440.0                18.353599   Safe  "
      ]
     },
     "execution_count": 37,
     "metadata": {},
     "output_type": "execute_result"
    }
   ],
   "source": [
    "top_safe_planes"
   ]
  },
  {
   "cell_type": "code",
   "execution_count": 38,
   "metadata": {},
   "outputs": [
    {
     "data": {
      "image/png": "[encoded data removed]",
      "text/plain": [
       "<Figure size 1000x600 with 1 Axes>"
      ]
     },
     "metadata": {},
     "output_type": "display_data"
    }
   ],
   "source": [
    "#creating our x-tick labels with 'make' and 'model'\n",
    "labels = [f'{make} {model}' for make, model in top_safe_planes.index]\n",
    "\n",
    "#creating out plot.\n",
    "plt.figure(figsize=(10,6))\n",
    "plt.bar(labels, top_safe_planes['total_uninjured_mean'],  color='skyblue', linewidth=1, edgecolor='black')\n",
    "plt.title('Top 5 Safest Planes Uninjured Passenger Count')\n",
    "plt.xlabel('Aircraft Make and Model') \n",
    "plt.ylabel('Total Uninjured Passengers')\n",
    "plt.tight_layout()\n",
    "plt.xticks(rotation=45, ha='right')\n",
    "plt.tight_layout()\n",
    "plt.savefig(\"./images/Top 5 Safest Planes Uninjured Passenger Count.png\", dpi=300);"
   ]
  },
  {
   "cell_type": "code",
   "execution_count": 39,
   "metadata": {},
   "outputs": [],
   "source": [
    "top_safe_planes.to_csv('./zippedData/top_safe_planes.csv')"
   ]
  },
  {
   "cell_type": "markdown",
   "metadata": {},
   "source": [
    "## Evaluation\n",
    "\n",
    "From these results we interpret that the Airbus A380 to be the safest overall airplane. We can identify a safety risk with regards to the 'Turbo Fan' engine. Furthermore we can see that bad weather conditions account for more total fatalities during the months of June and October. \n",
    "\n",
    "We are confident that our analysis is accurate and will provide our client with the ability to make informed decisions with the information\n",
    "provided. "
   ]
  },
  {
   "cell_type": "markdown",
   "metadata": {},
   "source": [
    "## Conclusions\n",
    "\n",
    "We would recommend that our client purchase the Airbus A380 as that is our safest plane. We would also recommend avoiding planes with a 'Turbo Fan' engine. We would also recommend to pay particular attentionn to the higher number of fatalities during bad weather,\n",
    "what is called IMC, or instrumental meteorlogical conditions, especially during the months of June and October.\n",
    "\n",
    "This analysis may not fully solve our business problem since we don't know the scope of our client's\n",
    "future airline. We also have no information on the capacity for the total number of passengers for each airplane,\n",
    "or how the total number of flights each particular type of airplane make and model have flown, an airplane that is\n",
    "more commonly used with a high number of passengers may appear more unsafe, statistically, than one with a small \n",
    "number of passengers that is flown rarely. \n",
    "\n",
    "In the future we could improve this project by researching the frequency that each plane is used and contrast that to the number\n",
    "of accidents it is involved with. Additionally, we could map where the most number of accidents occur and also dig into the values\n",
    "represented in 'Report.Status', to determine if human error is a factor in any accidents. "
   ]
  },
  {
   "cell_type": "code",
   "execution_count": null,
   "metadata": {},
   "outputs": [],
   "source": []
  },
  {
   "cell_type": "code",
   "execution_count": null,
   "metadata": {},
   "outputs": [],
   "source": []
  }
 ],
 "metadata": {
  "kernelspec": {
   "display_name": "Python 3 (ipykernel)",
   "language": "python",
   "name": "python3"
  },
  "language_info": {
   "codemirror_mode": {
    "name": "ipython",
    "version": 3
   },
   "file_extension": ".py",
   "mimetype": "text/x-python",
   "name": "python",
   "nbconvert_exporter": "python",
   "pygments_lexer": "ipython3",
   "version": "3.11.5"
  }
 },
 "nbformat": 4,
 "nbformat_minor": 4
}
